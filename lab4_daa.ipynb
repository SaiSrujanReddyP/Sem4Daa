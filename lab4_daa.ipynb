{
 "cells": [
  {
   "cell_type": "code",
   "execution_count": null,
   "id": "be3d1e93",
   "metadata": {},
   "outputs": [],
   "source": [
    "def fractional_knapsack(items, capacity):\n",
    "    items.sort(key=lambda x: x[0]/x[1], reverse=True)    \n",
    "    total_benefit = 0\n",
    "    remaining_capacity = capacity\n",
    "    \n",
    "    for value, weight in items:\n",
    "        if weight <= remaining_capacity:\n",
    "            total_benefit += value\n",
    "            remaining_capacity -= weight\n",
    "        else:\n",
    "            fraction = remaining_capacity / weight\n",
    "            total_benefit += value * fraction\n",
    "            break  \n",
    "        \n",
    "    return total_benefit\n",
    "\n",
    "\n",
    "items = [(60, 10), (100, 20), (120, 30)]\n",
    "capacity = 50\n",
    "print(\"Maximum benefit:\", fractional_knapsack(items, capacity))\n"
   ]
  },
  {
   "cell_type": "code",
   "execution_count": null,
   "id": "d7ffd32b",
   "metadata": {},
   "outputs": [],
   "source": [
    "def max_sum_of_products(arr):\n",
    "    arr.sort()\n",
    "    n = len(arr)\n",
    "    result = sum(arr[i] * i for i in range(n))\n",
    "    return result\n",
    "\n",
    "arr = [2, 5, 3, 4, 0]\n",
    "print(\"Maximum sum of products:\", max_sum_of_products(arr))\n"
   ]
  },
  {
   "cell_type": "code",
   "execution_count": null,
   "id": "80dd0229",
   "metadata": {},
   "outputs": [],
   "source": [
    "def min_sum_of_products(array_one, array_two):\n",
    "    array_one.sort()\n",
    "    array_two.sort(reverse=True)\n",
    "    return sum(a * b for a, b in zip(array_one, array_two))\n",
    "\n",
    "array_one = [7, 5, 1, 4]\n",
    "array_two = [6, 17, 9, 3]\n",
    "print(\"Minimum sum of products:\", min_sum_of_products(array_one, array_two))\n"
   ]
  }
 ],
 "metadata": {
  "kernelspec": {
   "display_name": "Python 3 (ipykernel)",
   "language": "python",
   "name": "python3"
  },
  "language_info": {
   "codemirror_mode": {
    "name": "ipython",
    "version": 3
   },
   "file_extension": ".py",
   "mimetype": "text/x-python",
   "name": "python",
   "nbconvert_exporter": "python",
   "pygments_lexer": "ipython3",
   "version": "3.11.5"
  }
 },
 "nbformat": 4,
 "nbformat_minor": 5
}
