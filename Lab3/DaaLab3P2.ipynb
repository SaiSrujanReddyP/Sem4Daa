{
 "cells": [
  {
   "cell_type": "code",
   "execution_count": 1,
   "id": "c5a022d0",
   "metadata": {},
   "outputs": [
    {
     "data": {
      "image/png": "[encoded data removed]",
      "text/plain": [
       "<Figure size 640x480 with 1 Axes>"
      ]
     },
     "metadata": {},
     "output_type": "display_data"
    }
   ],
   "source": [
    "import random\n",
    "import timeit\n",
    "import matplotlib.pyplot as plt\n",
    "random_numbers = [random.randint(1, 10000) for _ in range(1000)]\n",
    "def bubble_sort(arr):\n",
    "    n = len(arr)\n",
    "    for i in range(n):\n",
    "        for j in range(0, n-i-1):\n",
    "            if arr[j] > arr[j+1]:\n",
    "                arr[j], arr[j+1] = arr[j+1], arr[j]\n",
    "\n",
    "def insertion_sort(arr):\n",
    "    for i in range(1, len(arr)):\n",
    "        key = arr[i]\n",
    "        j = i - 1\n",
    "        while j >= 0 and key < arr[j]:\n",
    "            arr[j + 1] = arr[j]\n",
    "            j -= 1\n",
    "        arr[j + 1] = key\n",
    "def merge_sort(arr):\n",
    "    if len(arr) > 1:\n",
    "        mid = len(arr) // 2\n",
    "        L = arr[:mid]\n",
    "        R = arr[mid:]\n",
    "        \n",
    "        merge_sort(L)\n",
    "        merge_sort(R)\n",
    "        \n",
    "        i = j = k = 0\n",
    "        \n",
    "        while i < len(L) and j < len(R):\n",
    "            if L[i] < R[j]:\n",
    "                arr[k] = L[i]\n",
    "                i += 1\n",
    "            else:\n",
    "                arr[k] = R[j]\n",
    "                j += 1\n",
    "            k += 1\n",
    "        \n",
    "        while i < len(L):\n",
    "            arr[k] = L[i]\n",
    "            i += 1\n",
    "            k += 1\n",
    "        \n",
    "        while j < len(R):\n",
    "            arr[k] = R[j]\n",
    "            j += 1\n",
    "            k += 1\n",
    "def quick_sort(arr):\n",
    "    if len(arr) <= 1:\n",
    "        return arr\n",
    "    else:\n",
    "        pivot = arr[0]\n",
    "        less_than_pivot = [x for x in arr[1:] if x <= pivot]\n",
    "        greater_than_pivot = [x for x in arr[1:] if x > pivot]\n",
    "        return quick_sort(less_than_pivot) + [pivot] + quick_sort(greater_than_pivot)\n",
    "bubble_time = timeit.timeit(lambda: bubble_sort(random_numbers.copy()), number=1)\n",
    "insertion_time = timeit.timeit(lambda: insertion_sort(random_numbers.copy()), number=1)\n",
    "merge_time = timeit.timeit(lambda: merge_sort(random_numbers.copy()), number=1)\n",
    "quick_time = timeit.timeit(lambda: quick_sort(random_numbers.copy()), number=1)\n",
    "algorithms = ['Bubble Sort', 'Insertion Sort', 'Merge Sort', 'Quick Sort']\n",
    "times = [bubble_time, insertion_time, merge_time, quick_time]\n",
    "\n",
    "plt.bar(algorithms, times, color=['blue', 'green', 'red', 'purple'])\n",
    "plt.xlabel('Sorting Algorithm')\n",
    "plt.ylabel('Time Taken (seconds)')\n",
    "plt.title('Comparison of Sorting Algorithms')\n",
    "plt.show()"
   ]
  },
  {
   "cell_type": "code",
   "execution_count": 2,
   "id": "4d8704a0",
   "metadata": {},
   "outputs": [
    {
     "name": "stdout",
     "output_type": "stream",
     "text": [
      "[10, 15, 20, 25, 27, 29, 30, 32, 33, 35, 37, 40, 48, 93]\n"
     ]
    }
   ],
   "source": [
    "import heapq\n",
    "\n",
    "def merge_sorted_lists(lists):\n",
    "    result = []\n",
    "\n",
    "    heap = []\n",
    "    \n",
    "    for i, lst in enumerate(lists):\n",
    "        if lst:\n",
    "            heapq.heappush(heap, (lst[0], i, 0)) \n",
    "    while heap:\n",
    "        val, list_index, element_index = heapq.heappop(heap)\n",
    "        result.append(val)\n",
    "        if element_index + 1 < len(lists[list_index]):\n",
    "            heapq.heappush(heap, (lists[list_index][element_index + 1], list_index, element_index + 1))\n",
    "\n",
    "    return result\n",
    "lists = [\n",
    "    [10, 20, 30, 40],\n",
    "    [15, 25, 35],\n",
    "    [27, 29, 37, 48, 93],\n",
    "    [32, 33]\n",
    "]\n",
    "merged_list = merge_sorted_lists(lists)\n",
    "print(merged_list)"
   ]
  },
  {
   "cell_type": "code",
   "execution_count": 3,
   "id": "80b9de78",
   "metadata": {},
   "outputs": [
    {
     "name": "stdout",
     "output_type": "stream",
     "text": [
      "K largest elements: [10, 15, 20]\n"
     ]
    }
   ],
   "source": [
    "import heapq\n",
    "\n",
    "def find_k_largest_elements(nums, k):\n",
    "    heap = nums[:k]\n",
    "    heapq.heapify(heap)\n",
    "    for num in nums[k:]:\n",
    "        if num > heap[0]:\n",
    "            heapq.heappop(heap)\n",
    "            heapq.heappush(heap, num)\n",
    "    return heap\n",
    "arr = [3, 10, 4, 7, 15, 20, 8]\n",
    "k = 3\n",
    "result = find_k_largest_elements(arr, k)\n",
    "print(\"K largest elements:\", result)"
   ]
  },
  {
   "cell_type": "code",
   "execution_count": 4,
   "id": "a2c95af3",
   "metadata": {},
   "outputs": [
    {
     "name": "stdout",
     "output_type": "stream",
     "text": [
      "Maximum number of activities performed by a single person:\n",
      "[(1, 4), (5, 7), (8, 11), (12, 14)]\n"
     ]
    }
   ],
   "source": [
    "def max_activities(activities):\n",
    "    activities.sort(key=lambda x: x[1])\n",
    "    \n",
    "\n",
    "    selected_activities = [activities[0]]\n",
    "    prev_finish_time = activities[0][1]\n",
    "    \n",
    "    \n",
    "    for activity in activities[1:]:\n",
    "        \n",
    "        if activity[0] >= prev_finish_time:\n",
    "            selected_activities.append(activity)\n",
    "            prev_finish_time = activity[1]\n",
    "    \n",
    "    return selected_activities\n",
    "\n",
    "activities = [\n",
    "    (1, 4), (3, 5), (0, 6), (5, 7), (3, 8), (5, 9), (6, 10), (8, 11), (8, 12), (2, 13), (12, 14)\n",
    "]\n",
    "\n",
    "max_activities_list = max_activities(activities)\n",
    "print(\"Maximum number of activities performed by a single person:\")\n",
    "print(max_activities_list)"
   ]
  },
  {
   "cell_type": "code",
   "execution_count": 5,
   "id": "67c7b669",
   "metadata": {},
   "outputs": [
    {
     "name": "stdout",
     "output_type": "stream",
     "text": [
      "Merged intervals:\n",
      "[(1, 5), (6, 9)]\n"
     ]
    }
   ],
   "source": [
    "def merge_intervals(intervals):\n",
    "    intervals.sort(key=lambda x: x[0])\n",
    "    merged = []\n",
    "    for interval in intervals:\n",
    "        \n",
    "        if not merged or interval[0] > merged[-1][1]:\n",
    "            merged.append(interval)\n",
    "        else:\n",
    "        \n",
    "            merged[-1] = (merged[-1][0], max(merged[-1][1], interval[1]))\n",
    "    \n",
    "    return merged\n",
    "\n",
    "intervals = [\n",
    "    (1, 4), (2, 5), (7, 8), (6, 9)\n",
    "]\n",
    "\n",
    "merged_intervals = merge_intervals(intervals)\n",
    "\n",
    "print(\"Merged intervals:\")\n",
    "print(merged_intervals)"
   ]
  }
 ],
 "metadata": {
  "kernelspec": {
   "display_name": "Python 3 (ipykernel)",
   "language": "python",
   "name": "python3"
  },
  "language_info": {
   "codemirror_mode": {
    "name": "ipython",
    "version": 3
   },
   "file_extension": ".py",
   "mimetype": "text/x-python",
   "name": "python",
   "nbconvert_exporter": "python",
   "pygments_lexer": "ipython3",
   "version": "3.12.2"
  }
 },
 "nbformat": 4,
 "nbformat_minor": 5
}
